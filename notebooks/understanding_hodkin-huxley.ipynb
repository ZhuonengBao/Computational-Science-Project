{
 "cells": [
  {
   "cell_type": "markdown",
   "id": "23726587-a342-4bba-920d-81a9c3c479e4",
   "metadata": {},
   "source": [
    "# Understanding Hodgkin-Huxley Model"
   ]
  },
  {
   "cell_type": "markdown",
   "id": "8790e75f-0adb-4299-a306-6d4a4816f69a",
   "metadata": {},
   "source": [
    "###### Imports"
   ]
  },
  {
   "cell_type": "code",
   "execution_count": 8,
   "id": "2509d3f5-1ecb-478f-a9ff-d0f0bea4528d",
   "metadata": {},
   "outputs": [],
   "source": [
    "# Custom Modules\n",
    "import sys\n",
    "import os\n",
    "sys.path.append(os.path.abspath(os.path.join(os.path.dirname('__file__'), '..', 'modules')))\n",
    "from hh_model import HodgkinHuxleyNeuron\n",
    "\n",
    "# Standard Modules\n",
    "import networkx as nx\n",
    "import matplotlib.pyplot as plt\n",
    "import numpy as np\n",
    "\n",
    "import matplotlib\n",
    "matplotlib.use('TkAgg')\n",
    "%matplotlib inline"
   ]
  },
  {
   "cell_type": "markdown",
   "id": "6b9ffe19-c18b-440d-9ef2-371a5ca28e39",
   "metadata": {},
   "source": [
    "###### Post-Synaptic Function"
   ]
  },
  {
   "cell_type": "code",
   "execution_count": 9,
   "id": "b7a3d6ad-b4cd-4e10-bc01-83a999307b44",
   "metadata": {},
   "outputs": [],
   "source": [
    "def I_syn(cur_V, par_V):\n",
    "    weight = 0.1\n",
    "    tau = 30\n",
    "    I_syn = weight * np.exp(-(cur_V - par_V) / tau)\n",
    "    return I_syn"
   ]
  },
  {
   "cell_type": "markdown",
   "id": "09f08903-77b5-435d-ab2c-a06558af9054",
   "metadata": {},
   "source": [
    "## Single Neuron"
   ]
  },
  {
   "cell_type": "code",
   "execution_count": null,
   "id": "8636c371-35e5-4bfb-86aa-8cd4c37a406c",
   "metadata": {},
   "outputs": [],
   "source": [
    "T = 20.0\n",
    "dt = 0.01\n",
    "time = np.arange(0, T, dt)\n",
    "\n",
    "# Neuron\n",
    "neuron = HodgkinHuxleyNeuron()\n",
    "\n",
    "# Post-Synaptic constants\n",
    "weight = 0.1\n",
    "tau = 30\n",
    "\n",
    "# Stimulus\n",
    "I_inp = np.zeros(len(time))\n",
    "I_inp[int(0.5/dt):int(1.0/dt)] = 15.0\n",
    "\n",
    "# Record data\n",
    "V_record = []\n",
    "I_out = np.zeros(len(time))\n",
    "\n",
    "for i, t in enumerate(time):\n",
    "    neuron.step(I_inp[i])\n",
    "    V_record.append(neuron.V)\n",
    "    I_out[i] = weight * np.exp(-(-65.0 - neuron.V) / tau)\n"
   ]
  },
  {
   "cell_type": "code",
   "execution_count": null,
   "id": "a3267ccc-34c1-42c7-9cdd-2ea7c35f354a",
   "metadata": {},
   "outputs": [],
   "source": [
    "# Plot\n",
    "plt.figure(figsize=(8, 6))\n",
    "\n",
    "# Membrane potential V\n",
    "plt.subplot(2, 1, 2)\n",
    "plt.plot(time / time[615], V_record)\n",
    "plt.plot(time / time[615], np.full(len(time), -65),\n",
    "         linestyle='--', color='gray', label='Resting')\n",
    "plt.title('Membrane Potential')\n",
    "plt.xlabel('Time (ms)')\n",
    "plt.ylabel('Voltage (mV)')\n",
    "plt.grid()\n",
    "plt.legend()\n",
    "\n",
    "# Currents\n",
    "plt.subplot(2, 1, 1)\n",
    "plt.plot(time / time[615], I_inp, label='Input')\n",
    "plt.plot(time / time[615], I_out, label='Output')\n",
    "plt.title('Stimulus')\n",
    "plt.xlabel('Time (ms)')\n",
    "plt.ylabel('Current (nA/cm$^2$)')\n",
    "plt.grid()\n",
    "plt.legend()\n",
    "plt.tight_layout()\n",
    "plt.show()"
   ]
  },
  {
   "cell_type": "markdown",
   "id": "d0cc17e1-da0c-4d5b-b8dc-7091f151f158",
   "metadata": {},
   "source": [
    "## Dynamics in neurons"
   ]
  },
  {
   "cell_type": "code",
   "execution_count": null,
   "id": "098e072f-0153-4e2f-84a6-a5b0cb4a49e4",
   "metadata": {},
   "outputs": [],
   "source": [
    "def create_N_to_1(N):\n",
    "    network = nx.DiGraph()\n",
    "    network.add_nodes_from(range(N))\n",
    "\n",
    "    for i in range(N - 1):\n",
    "        network.add_edge(i, N - 1)\n",
    "\n",
    "    for node in network.nodes():\n",
    "        network.nodes[node]['neuron'] = HodgkinHuxleyNeuron()\n",
    "\n",
    "    return network\n",
    "    \n",
    "\n",
    "def plot_network(network, ax):\n",
    "    pos = nx.spring_layout(network)\n",
    "    nx.draw_networkx(network, pos, node_size=500, node_color=\"lightblue\", edge_color=\"gray\", arrows=True, ax=ax)\n",
    "    ax.set_title(f\"{len(network.nodes) - 1} to 1 Network\")\n",
    "    ax.axis(\"off\")\n",
    "    plt.tight_layout()\n",
    "\n",
    "\n",
    "# Plot\n",
    "fig, ax = plt.subplots(1, 1, figsize=(5, 5))\n",
    "Net2 = create_N_to_1(2)\n",
    "plot_network(Net2, ax)"
   ]
  },
  {
   "cell_type": "markdown",
   "id": "a828b67f-8594-4286-b0de-1ad4c7bd23a7",
   "metadata": {},
   "source": [
    "##### Simulation"
   ]
  },
  {
   "cell_type": "code",
   "execution_count": null,
   "id": "01936e80-6fef-4570-947e-deacc25d6ee6",
   "metadata": {
    "scrolled": true
   },
   "outputs": [],
   "source": [
    "def sim(network):\n",
    "    T = 20.0\n",
    "    dt = 0.01\n",
    "    time = np.arange(0, T, dt)\n",
    "    \n",
    "    # Stimulus\n",
    "    I = np.zeros(len(time))\n",
    "    I[int(0.5/dt):int(1.0/dt)] = 15.0\n",
    "    \n",
    "    # Record Data\n",
    "    V_record = {node: [] for node in network.nodes()}\n",
    "    Network = network.nodes()\n",
    "    \n",
    "    for i, t in enumerate(time):\n",
    "        for node in Network:\n",
    "            neuron = Network[node]['neuron']\n",
    "            I_temp = 0.0\n",
    "\n",
    "            if node in range(len(Network) - 1):\n",
    "                neuron.step(I[i])\n",
    "                V_record[node].append(neuron.V)\n",
    "            else:\n",
    "                for pred in list(network.predecessors(node)):\n",
    "                    parent = Network[pred]['neuron']\n",
    "                    I_temp += I_syn(neuron.V, parent.V)\n",
    "        \n",
    "                neuron.step(I_temp)\n",
    "                V_record[node].append(neuron.V)\n",
    "\n",
    "    return V_record\n",
    "\n",
    "\n",
    "def plot_sim(Vs, ax):\n",
    "    for node, V in Vs.items():\n",
    "        ax.plot(time / time[615], V, label=f'Neuron {node}')  # Change plt.plot to ax.plot\n",
    "    \n",
    "    ax.set_title(\"Membrane Potential\")\n",
    "    ax.set_xlabel(\"Time (ms)\")\n",
    "    ax.set_ylabel(\"Voltage (mV)\")\n",
    "    ax.legend() "
   ]
  },
  {
   "cell_type": "code",
   "execution_count": null,
   "id": "07513f31-1966-4b7a-bc1f-6c551568afb4",
   "metadata": {},
   "outputs": [],
   "source": [
    "fig, ax = plt.subplots(1, 1, figsize=(6, 4))\n",
    "Vs = sim(Net2)\n",
    "plot_sim(Vs, ax)"
   ]
  },
  {
   "cell_type": "markdown",
   "id": "311f9446-d61b-476f-a4cf-c29d189ed759",
   "metadata": {},
   "source": [
    "## Multiple Neurons"
   ]
  },
  {
   "cell_type": "code",
   "execution_count": null,
   "id": "4c5590a1-c0ec-427e-afa4-c2457c43fae2",
   "metadata": {},
   "outputs": [],
   "source": [
    "NetA = create_N_to_1(4)\n",
    "NetB = create_N_to_1(5)\n",
    "\n",
    "fig, axes = plt.subplots(1, 2, figsize=(6, 3))\n",
    "plot_network(NetA, axes[0])\n",
    "plot_network(NetB, axes[1])"
   ]
  },
  {
   "cell_type": "markdown",
   "id": "aa4524f2-fc84-43fa-bff9-86946b3e8977",
   "metadata": {},
   "source": [
    "##### Simulation"
   ]
  },
  {
   "cell_type": "code",
   "execution_count": null,
   "id": "f8ade30e-b441-4611-8dbc-1587d0683718",
   "metadata": {},
   "outputs": [],
   "source": [
    "VsA = sim(NetA)\n",
    "VsB = sim(NetB)\n",
    "\n",
    "fig, axes = plt.subplots(1, 2, figsize=(10, 5))\n",
    "plot_sim(VsA, axes[0])\n",
    "plot_sim(VsB, axes[1])"
   ]
  },
  {
   "cell_type": "markdown",
   "id": "eed9162b-4633-4763-8dc6-152bf933b706",
   "metadata": {},
   "source": [
    "##"
   ]
  }
 ],
 "metadata": {
  "kernelspec": {
   "display_name": "Python 3 (ipykernel)",
   "language": "python",
   "name": "python3"
  },
  "language_info": {
   "codemirror_mode": {
    "name": "ipython",
    "version": 3
   },
   "file_extension": ".py",
   "mimetype": "text/x-python",
   "name": "python",
   "nbconvert_exporter": "python",
   "pygments_lexer": "ipython3",
   "version": "3.10.12"
  }
 },
 "nbformat": 4,
 "nbformat_minor": 5
}
