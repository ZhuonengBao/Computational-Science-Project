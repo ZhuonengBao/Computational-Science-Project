{
 "cells": [
  {
   "cell_type": "markdown",
   "id": "23726587-a342-4bba-920d-81a9c3c479e4",
   "metadata": {},
   "source": [
    "### Project Computational Science"
   ]
  },
  {
   "cell_type": "code",
   "execution_count": 11,
   "id": "c02f6c3d-76db-458d-92d4-23c7b68ec5e9",
   "metadata": {},
   "outputs": [],
   "source": [
    "import networkx as nx\n",
    "import matplotlib.pyplot as plt\n",
    "import numpy as np\n",
    "from concept.hh_model import HodgkinHuxleyNeuron\n",
    "import matplotlib\n",
    "matplotlib.use('TkAgg')\n",
    "\n",
    "N = 2\n",
    "G = nx.DiGraph()\n",
    "G.add_nodes_from(range(N))\n",
    "\n",
    "for i in range(N - 1):\n",
    "    G.add_edge(i, i + 1)\n",
    "\n",
    "for node in G.nodes():\n",
    "    network.nodes[node]['neuron'] = HodgkinHuxleyNeuron()\n",
    "\n",
    "for u, v in G.edges():\n",
    "    G[u][v]['weight'] = 0.05\n",
    "\n",
    "\n",
    "T = 50.0\n",
    "dt = 0.01\n",
    "time = np.arange(0, T, dt)\n",
    "\n",
    "network.nodes[0]['neuron'].I_ext = 15.0\n",
    "\n",
    "V_record = {node: [] for node in network.nodes()}\n",
    "\n",
    "for t in time:\n",
    "    for node in network.nodes():\n",
    "        neuron = network.nodes[node]['neuron']\n",
    "        I_syn = 0.0\n",
    "\n",
    "        # Calculate total synaptic current from neighbors\n",
    "        for neighbor in network.neighbors(node):\n",
    "            neighbor_neuron = network.nodes[neighbor]['neuron']\n",
    "            weight = network[node][neighbor].get('weight', 0.1)\n",
    "            tau = 5.0  # Synaptic decay time constant\n",
    "            I_syn += weight * np.exp(-(neuron.V - neighbor_neuron.V) / tau)\n",
    "            \n",
    "        # Update neuron with total synaptic current\n",
    "        neuron.step(dt, I_syn)\n",
    "        V_record[node].append(neuron.V)\n",
    "        \n",
    "        if t > 30.0:\n",
    "            network.nodes[0]['neuron'].I_ext = 0.0\n",
    "\n",
    "\n",
    "\n",
    "\n",
    "\n",
    "\n",
    "# Plot Network\n",
    "# pos = nx.spring_layout(G)  # Compute layout for the nodes\n",
    "# nx.draw_networkx_nodes(G, pos, node_size=500, node_color=\"lightblue\")\n",
    "# nx.draw_networkx_edges(G, pos, edge_color=\"gray\", arrows=True)\n",
    "# nx.draw_networkx_labels(G, pos, font_size=12, font_color=\"black\")\n",
    "# edge_labels = {(u, v): f\"{data['weight']:.2f}\" for u, v, data in G.edges(data=True)}\n",
    "# nx.draw_networkx_edge_labels(G, pos, edge_labels=edge_labels, font_size=10)\n",
    "# plt.title(\"Directed Graph with Hodgkin-Huxley Neurons and Weights\")\n",
    "# plt.axis(\"off\")  # Turn off the axes\n",
    "# plt.show()\n"
   ]
  },
  {
   "cell_type": "markdown",
   "id": "a7216b70-27e9-4eb0-a9f3-6d89640a434b",
   "metadata": {},
   "source": [
    "### Plot"
   ]
  },
  {
   "cell_type": "code",
   "execution_count": 7,
   "id": "ecdd872a-07d6-487c-9ed3-9c1d32c84d38",
   "metadata": {},
   "outputs": [],
   "source": [
    "fig, axs = plt.subplots(1, 2, figsize=(18, 8))  # Create a figure with 2 subplots\n",
    "\n",
    "# Subplot 1: Neuron voltage traces\n",
    "for node, V in V_record.items():\n",
    "    axs[0].plot(time, V, label=f'Neuron: {node + 1}')\n",
    "axs[0].legend()\n",
    "axs[0].set_title(\"Neuron Voltage Traces\")\n",
    "axs[0].set_xlabel(\"Time\")\n",
    "axs[0].set_ylabel(\"Voltage\")\n",
    "\n",
    "# Subplot 2: Neural network visualization\n",
    "pos = nx.circular_layout(network)\n",
    "nx.draw(\n",
    "    network, \n",
    "    pos,\n",
    "    with_labels=True, \n",
    "    node_color='skyblue', \n",
    "    node_size=500, \n",
    "    font_size=10, \n",
    "    font_weight='bold',\n",
    "    edge_color='gray',\n",
    "    ax=axs[1]  # Draw the network on the second subplot\n",
    ")\n",
    "axs[1].set_title(\"Neural Network Visualization\")\n",
    "\n",
    "plt.tight_layout()\n",
    "plt.show()"
   ]
  },
  {
   "cell_type": "code",
   "execution_count": null,
   "id": "546711f0-54ea-4a07-a164-5122e6f0c091",
   "metadata": {},
   "outputs": [],
   "source": []
  }
 ],
 "metadata": {
  "kernelspec": {
   "display_name": "Python 3 (ipykernel)",
   "language": "python",
   "name": "python3"
  },
  "language_info": {
   "codemirror_mode": {
    "name": "ipython",
    "version": 3
   },
   "file_extension": ".py",
   "mimetype": "text/x-python",
   "name": "python",
   "nbconvert_exporter": "python",
   "pygments_lexer": "ipython3",
   "version": "3.10.12"
  }
 },
 "nbformat": 4,
 "nbformat_minor": 5
}
